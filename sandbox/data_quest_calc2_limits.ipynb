{
 "cells": [
  {
   "metadata": {
    "collapsed": true
   },
   "cell_type": "markdown",
   "source": "# Section 2 of DataQuest Calc for ML",
   "id": "abcce2fa3c80665a"
  },
  {
   "metadata": {
    "ExecuteTime": {
     "end_time": "2025-09-05T18:40:05.263094Z",
     "start_time": "2025-09-05T18:40:05.260607Z"
    }
   },
   "cell_type": "code",
   "source": [
    "import sympy\n",
    "x, y = sympy.symbols('x, y')\n",
    "print(type(x))"
   ],
   "id": "9baeb5ab8ba48ae5",
   "outputs": [
    {
     "name": "stdout",
     "output_type": "stream",
     "text": [
      "<class 'sympy.core.symbol.Symbol'>\n"
     ]
    }
   ],
   "execution_count": 6
  },
  {
   "metadata": {
    "ExecuteTime": {
     "end_time": "2025-09-05T18:40:37.658326Z",
     "start_time": "2025-09-05T18:40:37.641934Z"
    }
   },
   "cell_type": "code",
   "source": "\n",
   "id": "7ec627d29f3e4ef4",
   "outputs": [
    {
     "ename": "TypeError",
     "evalue": "limit() missing 1 required positional argument: 'z0'",
     "output_type": "error",
     "traceback": [
      "\u001B[31m---------------------------------------------------------------------------\u001B[39m",
      "\u001B[31mTypeError\u001B[39m                                 Traceback (most recent call last)",
      "\u001B[36mCell\u001B[39m\u001B[36m \u001B[39m\u001B[32mIn[8]\u001B[39m\u001B[32m, line 1\u001B[39m\n\u001B[32m----> \u001B[39m\u001B[32m1\u001B[39m limit_one = \u001B[43msympy\u001B[49m\u001B[43m.\u001B[49m\u001B[43mlimit\u001B[49m\u001B[43m(\u001B[49m\u001B[43mx\u001B[49m\u001B[43m*\u001B[49m\u001B[43m*\u001B[49m\u001B[32;43m2\u001B[39;49m\u001B[43m \u001B[49m\u001B[43m+\u001B[49m\u001B[43m \u001B[49m\u001B[32;43m1\u001B[39;49m\u001B[43m,\u001B[49m\u001B[43m \u001B[49m\u001B[32;43m1\u001B[39;49m\u001B[43m)\u001B[49m\n",
      "\u001B[31mTypeError\u001B[39m: limit() missing 1 required positional argument: 'z0'"
     ]
    }
   ],
   "execution_count": 8
  },
  {
   "metadata": {},
   "cell_type": "code",
   "outputs": [],
   "execution_count": null,
   "source": "",
   "id": "69d99bceac5d9e81"
  }
 ],
 "metadata": {
  "kernelspec": {
   "display_name": "Python 3",
   "language": "python",
   "name": "python3"
  },
  "language_info": {
   "codemirror_mode": {
    "name": "ipython",
    "version": 2
   },
   "file_extension": ".py",
   "mimetype": "text/x-python",
   "name": "python",
   "nbconvert_exporter": "python",
   "pygments_lexer": "ipython2",
   "version": "2.7.6"
  }
 },
 "nbformat": 4,
 "nbformat_minor": 5
}
